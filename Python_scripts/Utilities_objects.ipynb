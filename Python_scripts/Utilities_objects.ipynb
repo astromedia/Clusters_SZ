{
 "cells": [
  {
   "cell_type": "markdown",
   "metadata": {
    "collapsed": false
   },
   "source": [
    "Pablo Jimeno - UPV/EHU 2016"
   ]
  },
  {
   "cell_type": "code",
   "execution_count": null,
   "metadata": {
    "collapsed": false
   },
   "outputs": [],
   "source": [
    "##################################################################################################################\n",
    "### Cluster class utilities:\n",
    "##################################################################################################################\n",
    "\n",
    "#-------------------------------------------------------------------\n",
    "class Cluster(object):\n",
    "    \"\"\"Defines Cluster object.\"\"\"\n",
    "    def __init__(self, sample, id):\n",
    "        self.id = id\n",
    "        self.sample_mask = sample['id']==id\n",
    "        self.ra = sample['ra'][self.sample_mask][0]\n",
    "        self.dec = sample['dec'][self.sample_mask][0]\n",
    "        \n",
    "        self.skycoord = SkyCoord(self.ra*u.degree, self.dec*u.degree, frame='icrs')\n",
    "        self.l = self.skycoord.galactic.l # l: gal longitude in deg\n",
    "        self.b = self.skycoord.galactic.b # b: gal latitude in deg\n",
    "        \n",
    "        if 'photo_z' in sample:\n",
    "            self.photo_z = sample['photo_z'][self.sample_mask][0]\n",
    "        if 'spec_z' in sample:\n",
    "            self.spec_z = sample['spec_z'][self.sample_mask][0]\n",
    "        if 'z' in sample:\n",
    "            self.z = sample['z'][self.sample_mask][0]\n",
    "        if 'rich' in sample:\n",
    "            self.rich = sample['rich'][self.sample_mask][0]\n",
    "                \n",
    "    def set_id(self, id):\n",
    "        return self.id\n",
    "    \n",
    "    def get_ra(self):\n",
    "        return self.ra\n",
    "    \n",
    "    def get_dec(self):\n",
    "        return self.dec\n",
    "    \n",
    "    def get_photo_z(self):\n",
    "        return self.photo_z\n",
    "    \n",
    "    def get_spec_z(self):\n",
    "        return self.spec_z\n",
    "    \n",
    "    \n",
    "##################################################################################################################\n",
    "### Mass-Richness relation utilities:\n",
    "##################################################################################################################\n",
    "\n",
    "#-------------------------------------------------------------------\n",
    "def M_from_Robs(Robs, MR_slope, MR_scatter, MR_logM0=0.):\n",
    "\n",
    "    def M_from_R(R):\n",
    "        M_val = np.exp(MR_logM0)*(R/60.)**MR_slope\n",
    "        return M_val\n",
    "\n",
    "    def prob_R_Robs(R, Robs):\n",
    "        x = (np.log(R) - np.log(Robs))/np.sqrt(2.*MR_scatter**2.)\n",
    "        prob = np.exp(-x**2.)/np.sqrt(2.*np.pi*MR_scatter**2.)\n",
    "        return prob\n",
    "\n",
    "    def M_from_prob(M_vector, prob_vector):\n",
    "        prob_norm = integrate.trapz(prob_vector, x=M_vector)\n",
    "        M_int = integrate.trapz(M_vector*prob_vector/prob_norm, x=M_vector)\n",
    "        return M_int\n",
    "\n",
    "    R_vector = np.arange(0.1, 1000.01, 0.1)\n",
    "    \n",
    "    prob_vector = prob_R_Robs(R_vector, Robs)\n",
    "    M_vector = M_from_R(R_vector)\n",
    "    M_int = M_from_prob(M_vector, prob_vector)\n",
    "    \n",
    "    return M_int\n"
   ]
  },
  {
   "cell_type": "code",
   "execution_count": null,
   "metadata": {
    "collapsed": true
   },
   "outputs": [],
   "source": []
  }
 ],
 "metadata": {
  "kernelspec": {
   "display_name": "Python 2",
   "language": "python",
   "name": "python2"
  },
  "language_info": {
   "codemirror_mode": {
    "name": "ipython",
    "version": 2
   },
   "file_extension": ".py",
   "mimetype": "text/x-python",
   "name": "python",
   "nbconvert_exporter": "python",
   "pygments_lexer": "ipython2",
   "version": "2.7.6"
  }
 },
 "nbformat": 4,
 "nbformat_minor": 0
}
