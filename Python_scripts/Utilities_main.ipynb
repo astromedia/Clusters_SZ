{
 "cells": [
  {
   "cell_type": "markdown",
   "metadata": {},
   "source": [
    "Pablo Jimeno - UPV/EHU 2016"
   ]
  },
  {
   "cell_type": "code",
   "execution_count": null,
   "metadata": {
    "collapsed": false
   },
   "outputs": [],
   "source": [
    "import os.path\n",
    "import shutil\n",
    "import urllib\n",
    "import pickle\n",
    "\n",
    "import numpy as np\n",
    "import numpy.ma as ma\n",
    "\n",
    "import scipy.ndimage as ndimage\n",
    "import scipy.integrate as integrate\n",
    "from scipy.optimize import curve_fit, minimize\n",
    "from scipy import fftpack\n",
    "from scipy import optimize, stats\n",
    "\n",
    "import matplotlib.pyplot as plt\n",
    "import matplotlib\n",
    "import matplotlib.patches as patches\n",
    "from matplotlib.colors import LogNorm\n",
    "\n",
    "import astropy.units as u\n",
    "from astropy.io import fits\n",
    "from astropy.cosmology import FlatLambdaCDM\n",
    "from astropy.coordinates import SkyCoord  # High-level coordinates\n",
    "from astropy.coordinates import ICRS, Galactic, FK4, FK5  # Low-level frames\n",
    "from astropy.coordinates import Angle, Latitude, Longitude  # Angles\n",
    "from astropy.convolution import convolve, convolve_fft, Gaussian2DKernel, Tophat2DKernel\n",
    "from astropy.visualization import hist\n",
    "import astropy.constants as const\n",
    "\n",
    "import healpy as hp\n",
    "from healpy.pixelfunc import ang2pix\n",
    "\n",
    "from IPython.display import clear_output\n",
    "\n",
    "\n",
    "# Some constants...\n",
    "planck_h = const.h.cgs.value # [erg s]\n",
    "k_b = const.k_B.cgs.value # [erg / K]\n",
    "c = const.c.cgs.value # [cm / s]\n",
    "\n",
    "## Styling...\n",
    "fontsize = 9\n",
    "matplotlib.rcParams['axes.titlesize']  = fontsize\n",
    "matplotlib.rcParams['axes.labelsize']  = fontsize\n",
    "matplotlib.rcParams['xtick.labelsize'] = fontsize\n",
    "matplotlib.rcParams['ytick.labelsize'] = fontsize\n",
    "matplotlib.rcParams['legend.fontsize'] = fontsize\n",
    "    \n",
    "cat_dir  = '../Catalogues'\n",
    "data_dir = '../Data_files'\n",
    "raw_dir  = '../Raw_data'\n",
    "img_dir  = '../Images'\n",
    "plot_dir = '../Plots'\n",
    "dra_dir  = '/home/pablo/Paper_Draft_SZ/Images'\n",
    "\n",
    "%run 'Utilities_objects.ipynb'\n",
    "%run 'Utilities_catalogues.ipynb'\n",
    "%run 'Utilities_images.ipynb'\n",
    "%run 'Utilities_satellites.ipynb'"
   ]
  },
  {
   "cell_type": "code",
   "execution_count": null,
   "metadata": {
    "collapsed": true
   },
   "outputs": [],
   "source": [
    "def create_dir(directory):\n",
    "    \n",
    "    if not os.path.exists(directory):\n",
    "        os.makedirs(directory)\n",
    "\n",
    "dir_list = [\n",
    "    cat_dir,\n",
    "    '%s/Original_redMaPPer_DR8' % cat_dir,\n",
    "    data_dir,\n",
    "    '%s/Planck_patchs' % data_dir,\n",
    "    '%s/Planck_stacked_maps' % data_dir,\n",
    "    '%s/SZ_values' % data_dir,\n",
    "    '%s/Temp_files' % data_dir,\n",
    "    raw_dir,\n",
    "    '%s/Planck/FITS_maps' % raw_dir,\n",
    "    '%s/WISE' % raw_dir,\n",
    "    img_dir,\n",
    "    '%s/Planck/Stacked' % img_dir,\n",
    "    '%s/Planck/PNG' % img_dir,\n",
    "    plot_dir\n",
    "]\n",
    "\n",
    "for project_dir in dir_list:\n",
    "    create_dir(project_dir)    "
   ]
  },
  {
   "cell_type": "code",
   "execution_count": null,
   "metadata": {
    "collapsed": true
   },
   "outputs": [],
   "source": [
    "#-----------------------------------------------------------------------------------------\n",
    "def save_figure(fig, fig_name):\n",
    "    \n",
    "    fig.savefig('%s/PNG/%s.png' % (dra_dir, fig_name), bbox_inches='tight', pad_inches=0.10)\n",
    "    fig.savefig('%s/%s.pdf' % (dra_dir, fig_name), bbox_inches='tight', pad_inches=0.10)\n",
    "    fig.savefig('%s/%s.eps' % (dra_dir, fig_name), bbox_inches='tight', pad_inches=0.10)\n",
    "        \n",
    "    plt.close()\n",
    "    \n",
    "    print 'Plot saved in %s' % dra_dir\n",
    "    \n",
    "    \n",
    "#-------------------------------------------------------------------\n",
    "def sub_tag(sub_meta):\n",
    "    \n",
    "    sub_tag = '[%03d_%03d_%.3f_%.3f]' % (sub_meta[0], sub_meta[1], sub_meta[2], sub_meta[3])\n",
    "    \n",
    "    return sub_tag"
   ]
  }
 ],
 "metadata": {
  "kernelspec": {
   "display_name": "Python 2",
   "language": "python",
   "name": "python2"
  },
  "language_info": {
   "codemirror_mode": {
    "name": "ipython",
    "version": 2
   },
   "file_extension": ".py",
   "mimetype": "text/x-python",
   "name": "python",
   "nbconvert_exporter": "python",
   "pygments_lexer": "ipython2",
   "version": "2.7.6"
  }
 },
 "nbformat": 4,
 "nbformat_minor": 0
}
