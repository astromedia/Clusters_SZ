{
 "cells": [
  {
   "cell_type": "markdown",
   "metadata": {},
   "source": [
    "Pablo Jimeno - UPV/EHU 2016"
   ]
  },
  {
   "cell_type": "code",
   "execution_count": null,
   "metadata": {
    "collapsed": false
   },
   "outputs": [],
   "source": [
    "%run 'Utilities_main.ipynb'"
   ]
  },
  {
   "cell_type": "code",
   "execution_count": null,
   "metadata": {
    "collapsed": true
   },
   "outputs": [],
   "source": [
    "## Import redMaPPer catalogue\n",
    "\n",
    "cat_file = '%s/Original_redMaPPer_DR8/redmapper_dr8_public_v6.3_catalog.fits' % cat_dir\n",
    "\n",
    "data = pyfits.open(cat_file)\n",
    "\n",
    "cat_raw  = data[1].data\n",
    "\n",
    "data.close()\n",
    "\n",
    "cat = Table(cat_raw, copy=False)"
   ]
  },
  {
   "cell_type": "code",
   "execution_count": null,
   "metadata": {
    "collapsed": false
   },
   "outputs": [],
   "source": [
    "## Import redMaPPer angular mask\n",
    "\n",
    "amask_file = cat_dir + '/Original_redMaPPer_DR8/redmapper_dr8_public_v6.3_zmask.fits'\n",
    "amask_data = fits.getdata(amask_file)\n",
    "\n",
    "NSIDE = 2048\n",
    "\n",
    "amask_npixels = hp.nside2npix(NSIDE)\n",
    "\n",
    "amask_final = np.zeros((amask_npixels,2),dtype=np.float32)\n",
    "\n",
    "pixel_mask = amask_data['HPIX']-1\n",
    "\n",
    "amask_final[:,0][pixel_mask] = amask_data['FRACGOOD']\n",
    "amask_final[:,1][pixel_mask] = amask_data['ZMAX']\n",
    "\n",
    "hp.mollview(amask_final[:,0], title=\"FRACGOOD\", xsize=1000)\n",
    "hp.mollview(amask_final[:,1], title=\"ZMAX\", unit='z', min=0.55, max=0.6, xsize=1000)"
   ]
  },
  {
   "cell_type": "code",
   "execution_count": null,
   "metadata": {
    "collapsed": false
   },
   "outputs": [],
   "source": [
    "## Import SDSS catalogue\n",
    "\n",
    "sdss_file = cat_dir + '/SDSS/specObj-dr12.fits'\n",
    "\n",
    "boss = import_DR12(sdss_file, sample='BOSS')\n",
    "sdss = import_DR12(sdss_file, sample='SDSS')"
   ]
  },
  {
   "cell_type": "code",
   "execution_count": null,
   "metadata": {
    "collapsed": false
   },
   "outputs": [],
   "source": [
    "print '\\nlen cat: %i' % len(cat)\n",
    "\n",
    "print '\\ncat columns:\\n%s' % cat.colnames\n",
    "\n",
    "print '\\nlen boss: %i' % len(boss['z'])\n",
    "print '\\nlen sdss: %i' % len(sdss['z'])"
   ]
  },
  {
   "cell_type": "code",
   "execution_count": null,
   "metadata": {
    "collapsed": false
   },
   "outputs": [],
   "source": [
    "### Create new SYNTHETIC redshift distributions:\n",
    "\n",
    "# spec-z coming from SDSS or others of 1º CG:\n",
    "cat_sdss = Table.Column(name='Z_SDSS', data=np.full((len(cat),5),-1.))\n",
    "cat.add_column(cat_sdss, 10)\n",
    "\n",
    "cat['Z_SDSS'][:,0] = cat['Z_SPEC']\n",
    "\n",
    "cat_boss = Table.Column(name='Z_BOSS', data=np.full((len(cat),5),-1.))\n",
    "cat.add_column(cat_boss, 11)"
   ]
  },
  {
   "cell_type": "code",
   "execution_count": null,
   "metadata": {
    "collapsed": false
   },
   "outputs": [],
   "source": [
    "print '\\nOriginal catalog: number of most probable CGs with SDSS spec-z: %i ' % len(cat[cat['Z_SPEC']!=-1.])\n",
    "\n",
    "sky_limit = 0.5 # Match: distance less than sky_limit arcsecs.\n",
    "\n",
    "for CG in [0,1,2,3,4]:\n",
    "    \n",
    "    print '\\nComputing matches for %iº most probable CGs...' % (CG+1)\n",
    "    \n",
    "    cat_sky = SkyCoord(ra = cat['RA_CEN'][:,CG], dec = cat['DEC_CEN'][:,CG], frame='icrs', unit='deg')\n",
    "\n",
    "    for z_sample in ['Z_SDSS', 'Z_BOSS']:\n",
    "        \n",
    "        if z_sample=='Z_SDSS':\n",
    "            gal=sdss\n",
    "        elif z_sample=='Z_BOSS':\n",
    "            gal=boss\n",
    "            \n",
    "        gal_sky = SkyCoord(ra = gal['ra'], dec = gal['dec'], frame='icrs', unit='deg')\n",
    "        \n",
    "        idx, d2d, d3d = cat_sky.match_to_catalog_sky(gal_sky)\n",
    "        sky_dists = d2d.arcsecond\n",
    "        sky_mask = sky_dists < sky_limit # Objects in redMaPPer with SDSS match.\n",
    "        sky_matches = idx[sky_mask] # Objects in SDSS with redMaPPer match.\n",
    "    \n",
    "        cat[z_sample][:,CG][sky_mask] = gal['z'][sky_matches]    \n",
    "        \n",
    "        print 'Number of %iº most probable CGs with %s spec-z: %i' % ( CG+1, z_sample,len(cat[cat[z_sample][:,CG]!=-1.]))"
   ]
  },
  {
   "cell_type": "code",
   "execution_count": null,
   "metadata": {
    "collapsed": false
   },
   "outputs": [],
   "source": [
    "### Export completed redMaPPer catalog:\n",
    "\n",
    "new_redm_file = cat_dir + '/redMaPPer_DR12_v6.3.fits'\n",
    "\n",
    "if os.path.exists(new_redm_file):\n",
    "    os.remove(new_redm_file)\n",
    "\n",
    "cat.write(new_redm_file, format='fits')"
   ]
  },
  {
   "cell_type": "code",
   "execution_count": null,
   "metadata": {
    "collapsed": false
   },
   "outputs": [],
   "source": [
    "### Export completed redMaPPer catalog (text version):\n",
    "\n",
    "raw_catalog = Table.read(new_redm_file, format='fits')\n",
    "\n",
    "print '\\nNumber of raw objects found: ', len(raw_catalog)\n",
    "print '\\nRaw columns:\\n\\n', raw_catalog.colnames\n",
    "\n",
    "catalog = {}\n",
    "\n",
    "catalog['id'] = raw_catalog['ID'].data\n",
    "catalog['ra'] = raw_catalog['RA_CEN'].data[:,0]\n",
    "catalog['dec'] = raw_catalog['DEC_CEN'].data[:,0]\n",
    "catalog['z_spec'] = raw_catalog['Z_SDSS'].data[:,0]\n",
    "catalog['z_photo'] = raw_catalog['Z_LAMBDA'].data\n",
    "catalog['z_photo_err'] = raw_catalog['Z_LAMBDA_ERR'].data\n",
    "catalog['rich'] = raw_catalog['LAMBDA'].data\n",
    "catalog['rich_err'] = raw_catalog['LAMBDA_ERR'].data\n",
    "\n",
    "catalog_out = np.array((catalog['id'], \n",
    "                        catalog['ra'],\n",
    "                        catalog['dec'],\n",
    "                        catalog['z_spec'],\n",
    "                        catalog['z_photo'],\n",
    "                        catalog['z_photo_err'],\n",
    "                        catalog['rich'],\n",
    "                        catalog['rich_err'])).T\n",
    "\n",
    "# HEADER: ID / RA / DEC / SPEC_Z / PHOTO_Z / PHOTO_Z_ERR / RICHNESS / RICHNESS_ERR\n",
    "np.savetxt(cat_dir + '/redMaPPer_DR12_v6.3.txt', catalog_out,\n",
    "           fmt='%.i\\t%.7f\\t%.7f\\t%.6f\\t%.6f\\t%.6f\\t%.2f\\t%.2f')"
   ]
  }
 ],
 "metadata": {
  "kernelspec": {
   "display_name": "Python 2",
   "language": "python",
   "name": "python2"
  },
  "language_info": {
   "codemirror_mode": {
    "name": "ipython",
    "version": 2
   },
   "file_extension": ".py",
   "mimetype": "text/x-python",
   "name": "python",
   "nbconvert_exporter": "python",
   "pygments_lexer": "ipython2",
   "version": "2.7.6"
  }
 },
 "nbformat": 4,
 "nbformat_minor": 0
}
