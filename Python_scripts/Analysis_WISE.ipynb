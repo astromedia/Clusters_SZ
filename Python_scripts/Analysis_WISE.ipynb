{
 "cells": [
  {
   "cell_type": "markdown",
   "metadata": {},
   "source": [
    "Pablo Jimeno - UPV/EHU 2016"
   ]
  },
  {
   "cell_type": "code",
   "execution_count": null,
   "metadata": {
    "collapsed": false
   },
   "outputs": [],
   "source": [
    "# UNTESTED\n",
    "\n",
    "%run 'Utilities_main.ipynb'"
   ]
  },
  {
   "cell_type": "code",
   "execution_count": null,
   "metadata": {
    "collapsed": false
   },
   "outputs": [],
   "source": [
    "## Load redMaPPer catalog:\n",
    "\n",
    "redm_filedir = cat_dir + '/redMaPPer_DR12_v6.3.fits'\n",
    "raw_redm = import_redMaPPer(redm_filedir)\n",
    "\n",
    "# Compute weighted spectroscopic redshift\n",
    "raw_redm['w_spec_z'] = weighted_redshift(raw_redm)\n",
    "\n",
    "# Reduce centers to most probable CG position\n",
    "raw_redm['ra']  = raw_redm['ra'][:,0]\n",
    "raw_redm['dec'] = raw_redm['dec'][:,0]\n",
    "\n",
    "# Apply redshift or richness cuts\n",
    "#redm = create_subsample(redm, subkey='w_spec_z', min_val=0., max_val=0.9999)\n",
    "#redm = create_subsample(redm, subkey='rich', min_val=20., max_val=999.)"
   ]
  },
  {
   "cell_type": "code",
   "execution_count": null,
   "metadata": {
    "collapsed": false
   },
   "outputs": [],
   "source": [
    "## Export catalogue\n",
    "if 0:\n",
    "    catalog_out = np.array((raw_redm['id'], \n",
    "                            raw_redm['ra'],\n",
    "                            raw_redm['dec'],\n",
    "                            raw_redm['w_spec_z'],\n",
    "                            raw_redm['photo_z'],\n",
    "                            raw_redm['photo_z_err'],\n",
    "                            raw_redm['rich'],\n",
    "                            raw_redm['rich_err'])).T\n",
    "\n",
    "    # HEADER: ID / RA / DEC / W_SPEC_Z / PHOTO_Z / PHOTO_Z_ERR / RICHNESS / RICHNESS_ERR\n",
    "    np.savetxt(cat_dir + '/redMaPPer_DR12_v6.3.txt', catalog_out,\n",
    "               fmt='%.i\\t%.7f\\t%.7f\\t%.6f\\t%.6f\\t%.6f\\t%.2f\\t  %.2f')"
   ]
  },
  {
   "cell_type": "code",
   "execution_count": null,
   "metadata": {
    "collapsed": false
   },
   "outputs": [],
   "source": [
    "## Richness mask:\n",
    "rich_cutoff = 100.\n",
    "\n",
    "## Redshift mask:\n",
    "z_min = 0.00\n",
    "z_max = 0.99\n",
    "\n",
    "\n",
    "rich_mask = raw_redm['rich'] >= rich_cutoff\n",
    "photo_z_mask = (raw_redm['photo_z'] >= z_min) & (raw_redm['photo_z'] <= z_max)\n",
    "spec_z_mask = (raw_redm['w_spec_z'] == -1.) | (raw_redm['w_spec_z'] >= z_min)\n",
    "redshift_z_mask = photo_z_mask & spec_z_mask\n",
    "\n",
    "## Global mask:\n",
    "global_mask = rich_mask & redshift_z_mask\n",
    "\n",
    "print '\\nNumber of redMaPPer clusters inside redshift and richness range: %i' % len(raw_redm['id'][global_mask])\n",
    "\n",
    "## Construct sample:\n",
    "redm = {}\n",
    "mask = global_mask\n",
    "\n",
    "for key in raw_redm.keys():\n",
    "    redm[key] = raw_redm[key][mask]"
   ]
  },
  {
   "cell_type": "code",
   "execution_count": null,
   "metadata": {
    "collapsed": true
   },
   "outputs": [],
   "source": [
    "## Config:\n",
    "\"\"\"http://wise2.ipac.caltech.edu/docs/release/allwise/expsup/index.html\"\"\"\n",
    "\n",
    "\"\"\"WISE (...) mapped the sky at 3.4, 4.6, 12, and 22 μm (W1, W2, W3, W4) \n",
    "in 2010 with an angular resolution of 6.1\", 6.4\", 6.5\", & 12.0\" in the four bands.\"\"\"\n",
    "\n",
    "out_dir = '../Images/WISE/WISE_analysis'\n",
    "\n",
    "img_pix = 600\n",
    "img_mpc = 2.\n",
    "#img_arcsec = 4.*60.\n",
    "\n",
    "wise_band = 1\n",
    "\n",
    "#min_arcsec = 0.\n",
    "#max_arcsec = 120.\n",
    "#nbins = 30\n",
    "#r_bins = radial_binning(min_arcsec, max_arcsec, nbins)"
   ]
  },
  {
   "cell_type": "code",
   "execution_count": null,
   "metadata": {
    "collapsed": false
   },
   "outputs": [],
   "source": [
    "def generate_new_images(delete_fits=False):\n",
    "    \n",
    "    temp_dir = '%s/Temp_files' % data_dir\n",
    "    if not os.path.isdir(temp_dir):\n",
    "        os.makedirs(temp_dir)\n",
    "    \n",
    "    fits_dir = '%s/FITS' % raw_dir\n",
    "    if os.path.exists(fits_dir):\n",
    "        if delete_fits:\n",
    "            shutil.rmtree(fits_dir)\n",
    "            os.makedirs(fits_dir)\n",
    "    else:\n",
    "        os.makedirs(fits_dir)\n",
    "        \n",
    "    images_dirs = ['%s/PNG' % raw_dir, '%s/Lights' % img_raw_dir]\n",
    "    for raw_dir in images_dirs:\n",
    "        if os.path.exists(raw_dir):\n",
    "            shutil.rmtree(raw_dir)\n",
    "        os.makedirs(raw_dir)\n",
    "        \n",
    "        \n",
    "generate_new_images(delete_fits=False)\n",
    "        \n",
    "\n",
    "from astropy.visualization import MinMaxInterval, PercentileInterval, AsymmetricPercentileInterval, SqrtStretch\n",
    "\n",
    "\n",
    "## Run code:\n",
    "\n",
    "\n",
    "\n",
    "for i, clu_id in enumerate(redm['id'][30:35]):\n",
    "\n",
    "    clu = Cluster(redm, clu_id)\n",
    "\n",
    "    img_scale, img_arcsec, img_arcmin, img_mpc = scale_image('mpc', clu.photo_z, img_pix, img_mpc)\n",
    "\n",
    "    print 'Processing cluster nº %i (%06d)' % (i+1, clu_id)\n",
    "    \n",
    "    download_wise_fits(clu_id, clu.ra, clu.dec, img_arcsec, wise_band)\n",
    "    wise_fits_to_png(clu_id, img_arcsec, img_pix, wise_band)  \n",
    "    \n",
    "    #fig = plot_spectrum_data(image_data)\n",
    "    #fig.savefig('%s/check_%06d_power_v0.png' % (img_dir, clu_id))  \n",
    "    image_data = get_wise_image_data(clu_id, img_arcsec, wise_band)\n",
    "    image_data, img_mpc_size = zoom_image_data(image_data, img_pix, img_mpc)\n",
    "    image_data = norm_image_absolute(image_data, norm_down=1., norm_up=300.)\n",
    "        \n",
    "    fig = plot_image_data(image_data)\n",
    "    fig.savefig('%s/check_%06d_image_v1.png' % (img_dir, clu_id))    \n",
    "    \n",
    "    #fig = plot_histogram(image_data)\n",
    "    #fig.savefig('%s/check_%06d_image_histo.png' % (img_dir, clu_id))    \n",
    "    \n",
    "    #fig = plot_spectrum_data(image_data)\n",
    "    #fig.savefig('%s/check_%06d_power_v1.png' % (img_dir, clu_id))  \n",
    "    \n",
    "    plt.close()"
   ]
  },
  {
   "cell_type": "code",
   "execution_count": null,
   "metadata": {
    "collapsed": false,
    "scrolled": true
   },
   "outputs": [],
   "source": [
    "if 0:\n",
    "    fluxes = []\n",
    "    lights = []        \n",
    "\n",
    "    for band in wise_bands:\n",
    "\n",
    "\n",
    "        flux = compute_flux_distri(image_data, img_arcsec, r_bins)\n",
    "        light = compute_light_distri(image_data, img_arcsec, r_bins)\n",
    "        fluxes.append(flux)\n",
    "        lights.append(light)\n",
    "\n",
    "    cent_fit, back_fit, chi2 = fit_flux_distri(fluxes[0], r_bins)\n",
    "    fit_light, half_light = check_light_distri(lights[0], cent_fit, back_fit, r_bins)\n",
    "    half_lights.append(half_light)\n",
    "    chi2s.append(chi2)\n",
    "    #half_light_dist = process_half_light(img_z_photo, half_light)\n",
    "    plot_flux_distribution(out_dir, img_id, wise_bands, fluxes, cent_fit, back_fit, r_bins)\n",
    "    plot_flux_distribution_v2(out_dir, img_id, wise_bands, fluxes, cent_fit, back_fit, r_bins)\n",
    "    #plot_light_distribution(out_dir, img_id, wise_bands, lights, cent_fit, back_fit, fit_light, half_light, r_bins)\n",
    "\n",
    "    #visual_analysis(out_dir, img_id, band, img_rich, img_rich_err, img_z_photo,\n",
    "    #                cent_fit, back_fit, chi2, half_light, half_light_dist)\n"
   ]
  },
  {
   "cell_type": "code",
   "execution_count": null,
   "metadata": {
    "collapsed": false
   },
   "outputs": [],
   "source": [
    "## Stacking:\n",
    "\n",
    "img_concat = []\n",
    "\n",
    "count = 0\n",
    "\n",
    "for clu in range(5):\n",
    "\n",
    "    count += 1\n",
    "    img_id = clusters_id[clu]\n",
    "    img_rich = clusters_rich[clu]\n",
    "    img_rich_err = clusters_rich_err[clu]\n",
    "    img_ra = clusters_ra[clu]\n",
    "    img_dec = clusters_dec[clu]\n",
    "    img_z_photo = clusters_z_photo[clu]\n",
    "    img_z_spec = clusters_z_spec[clu]\n",
    "\n",
    "    img_scale, img_arcsec, img_arcmin, img_mpc = scale_image('arcsec', img_z_photo, img_pix, img_arcsec)\n",
    "\n",
    "    print 'Processing cluster nº %i (%06d)' % (count, img_id)\n",
    "    \n",
    "    download_wise_fits(img_id, img_ra, img_dec, img_arcsec, wise_bands)\n",
    "    \n",
    "    for band in wise_bands:\n",
    "        \n",
    "        img_data = get_data_wise_fits(img_id, img_arcsec, band)\n",
    "        img_data_zoom = zoom_image_data(img_data, img_pix)\n",
    "        img_concat.append(img_data_zoom)\n",
    "                    \n",
    "            \n",
    "final_image = np.zeros(shape=img_concat[0].shape)\n",
    "\n",
    "for image in img_concat:\n",
    "    final_image += image\n",
    "\n",
    "final_image = final_image/count\n",
    "\n",
    "plot_image_data(final_image)\n",
    "            \n",
    "## Stacking:\n",
    "#image_concat = []\n",
    "#image_data = get_data_fits_wise(img_dir, img_redm_id, band, img_arcsec)\n",
    "#image_data_zoom = zoom_image_data(image_data, img_pix)\n",
    "#image_concat.append(image_data_zoom)\n",
    "#check_image = apply_bright_objects_mask(check_image)\n",
    "#image_data_zoom = apply_aperture_mask(image_data_zoom, img_mpc, 1.)\n",
    "#plot_image_data(image_data_zoom, out_dir, band)\n",
    "#final_image = np.zeros(shape=image_concat[0].shape)\n",
    "#for image in image_concat:\n",
    "#    final_image += image\n",
    "#final_image = final_image/count\n",
    "#plot_image_data(final_image, out_dir, band)"
   ]
  },
  {
   "cell_type": "code",
   "execution_count": null,
   "metadata": {
    "collapsed": false
   },
   "outputs": [],
   "source": [
    "img_pix"
   ]
  },
  {
   "cell_type": "code",
   "execution_count": null,
   "metadata": {
    "collapsed": true
   },
   "outputs": [],
   "source": []
  }
 ],
 "metadata": {
  "kernelspec": {
   "display_name": "Python 2",
   "language": "python",
   "name": "python2"
  },
  "language_info": {
   "codemirror_mode": {
    "name": "ipython",
    "version": 2
   },
   "file_extension": ".py",
   "mimetype": "text/x-python",
   "name": "python",
   "nbconvert_exporter": "python",
   "pygments_lexer": "ipython2",
   "version": "2.7.6"
  }
 },
 "nbformat": 4,
 "nbformat_minor": 0
}
